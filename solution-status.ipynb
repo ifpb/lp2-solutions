{
  "nbformat": 4,
  "nbformat_minor": 0,
  "metadata": {
    "colab": {
      "name": "Untitled0.ipynb",
      "provenance": [],
      "collapsed_sections": []
    },
    "kernelspec": {
      "name": "python3",
      "display_name": "Python 3"
    }
  },
  "cells": [
    {
      "cell_type": "code",
      "execution_count": 9,
      "metadata": {},
      "outputs": [],
      "source": [
        "import os\n",
        "import json\n",
        "import pandas as pd\n",
        "\n",
        "students = (\n",
        "  'ana.sara',\n",
        "  'anny.priscila',\n",
        "  'camilly.garcia',\n",
        "  'fernanda.becker',\n",
        "  'gisele.silva',\n",
        "  'guilherme.lima',\n",
        "  'iago.vital',\n",
        "  'iury.kennedy',\n",
        "  'nicoly.almeida',\n",
        "  'victor.reinaldo',\n",
        "  'vitoria.cristhyna'\n",
        ")\n",
        "\n",
        "categories = ('ecma', 'web')\n",
        "status = {}\n",
        "\n",
        "for student in students:\n",
        "  status[student] = {}\n",
        "  for category in categories:\n",
        "      problems = os.listdir(category)\n",
        "      for problem in problems:\n",
        "        path = f'{category}/{problem}/{student}'\n",
        "        status[student][problem] = os.path.isdir(path)\n",
        "\n",
        "df = pd.DataFrame(status)"
      ]
    },
    {
      "cell_type": "code",
      "execution_count": 10,
      "metadata": {},
      "outputs": [
        {
          "data": {
            "text/plain": "victor.reinaldo      6\nvitoria.cristhyna    2\niury.kennedy         2\niago.vital           2\nfernanda.becker      2\ncamilly.garcia       2\nana.sara             2\nguilherme.lima       1\ngisele.silva         1\nanny.priscila        1\nnicoly.almeida       0\ndtype: int64"
          },
          "execution_count": 10,
          "metadata": {},
          "output_type": "execute_result"
        }
      ],
      "source": [
        "df[df==True].count(axis=0).sort_values(ascending=False)"
      ]
    },
    {
      "cell_type": "code",
      "execution_count": 11,
      "metadata": {},
      "outputs": [
        {
          "data": {
            "text/plain": "function-calc               0\nfunction-area-of-circle     0\nfunction-factorial          0\n.gitignore                  0\nfunction-sum                1\nbasic-harmonic-series       1\nbasic-irrf                  1\nbasic-numbers-series        1\nbasic-bmi                   7\nbasic-hello                10\ndtype: int64"
          },
          "execution_count": 11,
          "metadata": {},
          "output_type": "execute_result"
        }
      ],
      "source": [
        "df[df==True].count(axis=1).sort_values(ascending=True)"
      ]
    },
    {
      "cell_type": "code",
      "execution_count": 12,
      "metadata": {},
      "outputs": [
        {
          "name": "stdout",
          "output_type": "stream",
          "text": "21\n"
        }
      ],
      "source": [
        "print(df[df==True].count().sum())"
      ]
    }
  ]
}