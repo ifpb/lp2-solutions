{
  "nbformat": 4,
  "nbformat_minor": 0,
  "metadata": {
    "colab": {
      "name": "Untitled0.ipynb",
      "provenance": [],
      "collapsed_sections": []
    },
    "kernelspec": {
      "name": "python3",
      "display_name": "Python 3"
    }
  },
  "cells": [
    {
      "cell_type": "code",
      "execution_count": 3,
      "metadata": {},
      "outputs": [],
      "source": [
        "import os\n",
        "import json\n",
        "import pandas as pd\n",
        "\n",
        "students = (\n",
        "  'ana.sara',\n",
        "  'anny.priscila',\n",
        "  'barbara.brenda',\n",
        "  'camilly.garcia',\n",
        "  'caue.santos',\n",
        "  'clara.cardoso',\n",
        "  'daniella.santos',\n",
        "  'edclaudio.santos',\n",
        "  'eduarda.sousa',\n",
        "  'enrique.sousa',\n",
        "  'fernanda.becker',\n",
        "  'gabriel.targino',\n",
        "  'gisele.silva',\n",
        "  'guilherme.lima',\n",
        "  'iago.vital',\n",
        "  'islene.lima',\n",
        "  'iury.kennedy',\n",
        "  'jean.carlos',\n",
        "  'jhonatha.emmanuel',\n",
        "  'kezia.denyze',\n",
        "  'lais.maria',\n",
        "  'lais.sette',\n",
        "  'larissa.silva',\n",
        "  'leticia.laurentino',\n",
        "  'maria.isabella',\n",
        "  'maria.melo',\n",
        "  'natalia.ellen',\n",
        "  'nicoly.almeida',\n",
        "  'rayanne.rodrigues',\n",
        "  'rebeca.silva',\n",
        "  'santos.costa',\n",
        "  'taw.ham',\n",
        "  'thamiris.savina',\n",
        "  'victor.reinaldo',\n",
        "  'vitoria.cristhyna'\n",
        ")\n",
        "\n",
        "categories = ('ecma', 'web')\n",
        "status = {}\n",
        "\n",
        "for student in students:\n",
        "  status[student] = {}\n",
        "  for category in categories:\n",
        "      problems = os.listdir(category)\n",
        "      for problem in problems:\n",
        "        if problem != '.gitkeep':\n",
        "          path = f'{category}/{problem}/{student}'\n",
        "          status[student][problem] = os.path.isdir(path)\n",
        "\n",
        "df = pd.DataFrame(status)"
      ]
    },
    {
      "cell_type": "code",
      "execution_count": 4,
      "metadata": {},
      "outputs": [
        {
          "data": {
            "text/plain": "santos.costa          7\nenrique.sousa         6\niago.vital            6\nvictor.reinaldo       6\njhonatha.emmanuel     4\nvitoria.cristhyna     2\nanny.priscila         2\ncamilly.garcia        2\nedclaudio.santos      2\nfernanda.becker       2\niury.kennedy          2\nana.sara              2\nthamiris.savina       2\nlais.maria            1\nguilherme.lima        1\ngisele.silva          1\nlarissa.silva         0\nrayanne.rodrigues     0\nbarbara.brenda        0\ntaw.ham               0\ncaue.santos           0\nclara.cardoso         0\ndaniella.santos       0\nrebeca.silva          0\neduarda.sousa         0\ngabriel.targino       0\nnicoly.almeida        0\nlais.sette            0\nnatalia.ellen         0\nislene.lima           0\nmaria.melo            0\nmaria.isabella        0\nleticia.laurentino    0\nkezia.denyze          0\njean.carlos           0\ndtype: int64"
          },
          "execution_count": 4,
          "metadata": {},
          "output_type": "execute_result"
        }
      ],
      "source": [
        "df[df==True].count(axis=0).sort_values(ascending=False)"
      ]
    },
    {
      "cell_type": "code",
      "execution_count": 5,
      "metadata": {},
      "outputs": [
        {
          "data": {
            "text/plain": "function-factorial          0\nfunction-calc               1\nbasic-numbers-serie         1\nfunction-area-of-circle     2\nbasic-numbers-series        2\nfunction-sum                4\nbasic-irrf                  4\nbasic-harmonic-series       5\nbasic-bmi                  13\nbasic-hello                16\ndtype: int64"
          },
          "execution_count": 5,
          "metadata": {},
          "output_type": "execute_result"
        }
      ],
      "source": [
        "df[df==True].count(axis=1).sort_values(ascending=True)"
      ]
    },
    {
      "cell_type": "code",
      "execution_count": 6,
      "metadata": {},
      "outputs": [
        {
          "name": "stdout",
          "output_type": "stream",
          "text": "48\n"
        }
      ],
      "source": [
        "print(df[df==True].count().sum())"
      ]
    }
  ]
}