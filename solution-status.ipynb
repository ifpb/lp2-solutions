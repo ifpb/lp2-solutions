{
  "nbformat": 4,
  "nbformat_minor": 0,
  "metadata": {
    "colab": {
      "name": "Untitled0.ipynb",
      "provenance": [],
      "collapsed_sections": []
    },
    "kernelspec": {
      "name": "python3",
      "display_name": "Python 3"
    }
  },
  "cells": [
    {
      "cell_type": "code",
      "execution_count": 1,
      "metadata": {},
      "outputs": [],
      "source": [
        "import os\n",
        "import json\n",
        "import pandas as pd\n",
        "\n",
        "students = (\n",
        "  'ana.sara',\n",
        "  'anny.priscila',\n",
        "  'barbara.brenda',\n",
        "  'camilly.garcia',\n",
        "  'caue.santos',\n",
        "  'clara.cardoso',\n",
        "  'daniella.santos',\n",
        "  'edclaudio.santos',\n",
        "  'eduarda.sousa',\n",
        "  'enrique.sousa',\n",
        "  'fernanda.becker',\n",
        "  'gabriel.targino',\n",
        "  'gisele.silva',\n",
        "  'guilherme.lima',\n",
        "  'iago.vital',\n",
        "  'islene.lima',\n",
        "  'iury.kennedy',\n",
        "  'jean.carlos',\n",
        "  'jhonatha.emmanuel',\n",
        "  'kezia.denyze',\n",
        "  'lais.maria',\n",
        "  'lais.sette',\n",
        "  'larissa.silva',\n",
        "  'leticia.laurentino',\n",
        "  'maria.isabella',\n",
        "  'maria.melo',\n",
        "  'natalia.ellen',\n",
        "  'nicoly.almeida',\n",
        "  'rayanne.rodrigues',\n",
        "  'rebeca.silva',\n",
        "  'santos.costa',\n",
        "  'taw.ham',\n",
        "  'thamiris.savina',\n",
        "  'victor.reinaldo',\n",
        "  'vitoria.cristhyna'\n",
        ")\n",
        "\n",
        "categories = ('ecma', 'web')\n",
        "status = {}\n",
        "\n",
        "for student in students:\n",
        "  status[student] = {}\n",
        "  for category in categories:\n",
        "      problems = os.listdir(category)\n",
        "      for problem in problems:\n",
        "        if problem != '.gitkeep':\n",
        "          path = f'{category}/{problem}/{student}'\n",
        "          status[student][problem] = os.path.isdir(path)\n",
        "\n",
        "df = pd.DataFrame(status)"
      ]
    },
    {
      "cell_type": "code",
      "execution_count": 2,
      "metadata": {},
      "outputs": [
        {
          "data": {

            "text/plain": "jhonatha.emmanuel     9\nsantos.costa          9\nenrique.sousa         9\nrayanne.rodrigues     9\nvitoria.cristhyna     8\nnicoly.almeida        7\nanny.priscila         6\nedclaudio.santos      6\nfernanda.becker       6\ngabriel.targino       6\ngisele.silva          6\niago.vital            6\nvictor.reinaldo       6\njean.carlos           6\nana.sara              6\nthamiris.savina       6\ncaue.santos           5\ntaw.ham               5\nlarissa.silva         4\ndaniella.santos       4\nclara.cardoso         4\nmaria.isabella        3\nbarbara.brenda        3\nkezia.denyze          3\nlais.sette            2\niury.kennedy          2\nislene.lima           2\nguilherme.lima        2\nrebeca.silva          2\ncamilly.garcia        2\nlais.maria            1\nnatalia.ellen         1\neduarda.sousa         0\nmaria.melo            0\nleticia.laurentino    0\ndtype: int64"
            "text/plain": "victor.reinaldo       16\nsantos.costa          12\nvitoria.cristhyna     11\nrayanne.rodrigues     11\njhonatha.emmanuel     10\nenrique.sousa         10\niago.vital            10\nnicoly.almeida         9\nedclaudio.santos       7\nfernanda.becker        7\ngisele.silva           7\nana.sara               7\ngabriel.targino        6\nthamiris.savina        6\nanny.priscila          6\ncaue.santos            6\njean.carlos            6\niury.kennedy           5\ntaw.ham                5\nlarissa.silva          4\ncamilly.garcia         4\nguilherme.lima         4\nclara.cardoso          4\ndaniella.santos        4\nbarbara.brenda         3\nkezia.denyze           3\nmaria.isabella         3\nrebeca.silva           3\nlais.sette             2\nislene.lima            2\nnatalia.ellen          1\nlais.maria             1\nleticia.laurentino     0\nmaria.melo             0\neduarda.sousa          0\ndtype: int64"
          },
          "execution_count": 2,
          "metadata": {},
          "output_type": "execute_result"
        }
      ],
      "source": [
        "df[df==True].count(axis=0).sort_values(ascending=False)"
      ]
    },
    {
      "cell_type": "code",
      "execution_count": 3,
      "metadata": {},
      "outputs": [
        {
          "data": {

            "text/plain": "express-hello-name            0\nweb                           0\nexpress-generator             0\nexpress-hello-simple          0\nexpress-hello-lang            0\nfunction-prime                1\nnumber-series                 1\nexpress-bmi                   1\nbasic-number-series           1\nfunction-area-circ            1\nfunction-fibonacci-series     1\nfunction-fibonacci-number     1\nfunction-prime-nth            1\nbasic-harmonics-series        1\nfunction-triangle-checker     2\nfunction-calendar             2\nnode-hello-lang               4\nfunction-factorial            5\nfunction-calc                 8\nfunction-area-of-circle      10\nnode-hello-simple            13\nbasic-irrf                   19\nfunction-sum                 19\nbasic-harmonic-series        20\nbasic-numbers-series         23\nbasic-hello                  30\nbasic-bmi                    31\ndtype: int64"
          },
          "execution_count": 3,
          "metadata": {},
          "output_type": "execute_result"
        }
      ],
      "source": [
        "df[df==True].count(axis=1).sort_values(ascending=True)"
      ]
    },
    {
      "cell_type": "code",
      "execution_count": 4,
      "metadata": {},
      "outputs": [
        {
          "name": "stdout",
          "output_type": "stream",
          "text": "195\n"
        }
      ],
      "source": [
        "print(df[df==True].count().sum())"
      ]
    }
  ]
}